{
 "cells": [
  {
   "attachments": {},
   "cell_type": "markdown",
   "id": "b4fa1243",
   "metadata": {},
   "source": [
    "# [Exam Guide](https://mkt.tableau.com/files/TableauCertifiedDataAnalyst_ExamGuide.pdf)"
   ]
  },
  {
   "cell_type": "markdown",
   "id": "062b7843",
   "metadata": {},
   "source": [
    "## Domain 0: About Tableau\n",
    "## Domain 1: Connect and Transform Data\n",
    "1.1 Connect to Data Sources<br>\n",
    "1.2 Prepare Data for Analysis<br>\n",
    "1.3 Perform Data Transformation in Tableau Prep<br>\n",
    "1.4 Customize Fields<br>\n",
    "## Domain 2: Explore and Analyze Data\n",
    "2.1 Create Calculated Fields<br>\n",
    "2.2 Create Quick Table Calulations<br>\n",
    "2.3 Create Custome Table Calculations<br>\n",
    "2.4 Create and Use Filters<br>\n"
   ]
  },
  {
   "cell_type": "markdown",
   "id": "0a8870a3",
   "metadata": {},
   "source": [
    "## Domain 0: About Tableau\n",
    "Prepation and Creation | Description\n",
    ":-- | :--\n",
    "Tableau Prep | Data Preparation and Flows\n",
    "Tableau Desktop | Content Creation and Data Exploration\n",
    "\n",
    "Hosting | Description\n",
    ":-- | :--\n",
    "Tableau Server | Local Hosting\n",
    "Tableau Online | Cloud Hosting\n",
    "\n",
    "Free Tools | Description\n",
    ":-- | :--\n",
    "Tableau Public | (free) Cloud Hosting, Content Creation, and Data Exploration\n",
    "Tableau Reader | (free) Viewing and interaction with visualizations built in Desktop\n",
    "\n"
   ]
  },
  {
   "cell_type": "markdown",
   "id": "63b081a5",
   "metadata": {},
   "source": [
    "## Domain 1: Connect and Transform Data\n",
    "There are two categories of data sources that we can connect to in Tableau:\n",
    "- A file\n",
    "    - Excel\n",
    "    - PDF\n",
    "    - CSV\n",
    "    - JSON\n",
    "- A server\n",
    "    - Server based relational databases\n",
    "        - Tableau Server\n",
    "        - Salesforce\n",
    "        - Microsoft SQL Server\n",
    "        - IBM DB\n",
    "        - Oracle DB\n",
    "        - MySQL\n",
    "        - PostgresSQL\n",
    "    - Cloud based data sources \n",
    "        - Cloudera Hadoop\n",
    "        - Google Cloud SQL\n",
    "        - Amazon Aurora\n",
    "    - Web based data sources"
   ]
  },
  {
   "cell_type": "code",
   "execution_count": null,
   "id": "d2a1d0be",
   "metadata": {},
   "outputs": [],
   "source": []
  }
 ],
 "metadata": {
  "kernelspec": {
   "display_name": "Python 3",
   "language": "python",
   "name": "python3"
  },
  "language_info": {
   "codemirror_mode": {
    "name": "ipython",
    "version": 3
   },
   "file_extension": ".py",
   "mimetype": "text/x-python",
   "name": "python",
   "nbconvert_exporter": "python",
   "pygments_lexer": "ipython3",
   "version": "3.8.8"
  }
 },
 "nbformat": 4,
 "nbformat_minor": 5
}
