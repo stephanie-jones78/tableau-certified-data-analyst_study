{
 "cells": [
  {
   "cell_type": "markdown",
   "id": "6ca5f9e1",
   "metadata": {},
   "source": [
    "# Tableau Visualizations"
   ]
  },
  {
   "cell_type": "markdown",
   "id": "12354e30",
   "metadata": {},
   "source": [
    "## I. [Common Chart Types](https://help.tableau.com/current/pro/desktop/en-us/dataview_examples.htm)\n",
    "Index | Chart Name | \n",
    ":-- | :--\n",
    "A | [Build a Box Plot](https://help.tableau.com/current/pro/desktop/en-us/buildexamples_boxplot.htm)\n",
    "B | Build a Bullet Graph\n",
    "C | Build with Density Marks (Heatmap)\n",
    "D | Build a Gantt Chart\n",
    "E | Build a Highlight Table\n",
    "F | Build a Histogram\n",
    "G | Build a Line Chart \n",
    "H | Build a Packed Bubble Chart\n",
    "I | Build a Pie Chart\n",
    "J | Build a Scatter Plot\n",
    "K | Build a Text Table\n",
    "L | Build a Treemap\n",
    "M | Build Combination Charts"
   ]
  },
  {
   "cell_type": "markdown",
   "id": "edfef7cb",
   "metadata": {},
   "source": [
    "### A. [Box Plot](https://help.tableau.com/current/pro/desktop/en-us/buildexamples_boxplot.htm)\n",
    "Box plots show the distribution of values along an axis and allow viewers to quickly see the middle two quartiles of a data's distribution.\n",
    "#### Uses:\n",
    "- Visualizing statistics (**minimum**, **Q1**, **median/Q2**, **Q3**, and **max**)\n",
    "- Vizualizing outliers\n",
    "- Vizualizing IQR\n",
    "- Vizualizing distribution of data\n",
    "\n",
    "#### Specs\n",
    "Tableau Field | Selection | Use\n",
    ":-- | :-- | :--\n",
    "*Column shelf* |  `Dimension` \n",
    "Row shelf |  `Measure` \n",
    "Detail |  `Dimension`\n",
    "Mark type |  `Circle`\n",
    "Reference line |  `Box plot`"
   ]
  },
  {
   "cell_type": "markdown",
   "id": "d3cde029",
   "metadata": {},
   "source": [
    "### [B. Bullet Graph](https://help.tableau.com/current/pro/desktop/en-us/qs_bullet_graphs.htm)\n",
    "\n",
    "#### Specs\n",
    "Tableau Field | Selection | Use\n",
    ":-- | :-- | :--\n",
    "*Column shelf* |  `Dimension` \n",
    "Row shelf |  `Measure` \n",
    "Detail |  `Dimension`\n",
    "Mark type |  `Circle`\n",
    "Reference line |  `Box plot`"
   ]
  },
  {
   "cell_type": "code",
   "execution_count": null,
   "id": "831a12cf",
   "metadata": {},
   "outputs": [],
   "source": []
  },
  {
   "cell_type": "markdown",
   "id": "14697e51",
   "metadata": {},
   "source": [
    "## II. [Visual Vocabulary](https://public.tableau.com/views/VisualVocabulary/VisualVocabulary?%3AshowVizHome=no)"
   ]
  },
  {
   "cell_type": "markdown",
   "id": "dec8d3e8",
   "metadata": {},
   "source": [
    "## III. Other\n",
    "[Reference Lines, Bands, Distributions, and Boxes](https://help.tableau.com/current/pro/desktop/en-us/reference_lines.htm)"
   ]
  },
  {
   "cell_type": "code",
   "execution_count": null,
   "id": "701e9bf3",
   "metadata": {},
   "outputs": [],
   "source": []
  }
 ],
 "metadata": {
  "kernelspec": {
   "display_name": "Python 3",
   "language": "python",
   "name": "python3"
  },
  "language_info": {
   "codemirror_mode": {
    "name": "ipython",
    "version": 3
   },
   "file_extension": ".py",
   "mimetype": "text/x-python",
   "name": "python",
   "nbconvert_exporter": "python",
   "pygments_lexer": "ipython3",
   "version": "3.8.8"
  }
 },
 "nbformat": 4,
 "nbformat_minor": 5
}
