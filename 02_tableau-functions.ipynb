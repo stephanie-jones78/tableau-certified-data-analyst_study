{
 "cells": [
  {
   "cell_type": "markdown",
   "id": "8cd6f313",
   "metadata": {},
   "source": [
    "# Tableau Functions\n",
    ">[Reference](https://help.tableau.com/current/pro/desktop/en-us/functions.htm)\n",
    "\n",
    "Tableau supports different kinds of functions that can be used in \n",
    "- **Calculated Fields** *and* \n",
    "- **Table Calculations**\n",
    "\n",
    "Index | Type | Description\n",
    ":-- | :-- | :--\n",
    "01 | [Type Conversion]((https://help.tableau.com/current/pro/desktop/en-us/functions_functions_typeconversion.htm)) | data type conversion \n",
    "02 | Logical Functions\n",
    "03 | Aggregate Functions\n",
    "04 | Pass-Through Functions (RAWSQL)\n",
    "05 | User Functions\n",
    "06 | Table Calculation Functions\n",
    "07 | Spatial Functions\n",
    "08 | Predictive Modeling Functions\n",
    "09 | Additional Functions\n",
    "10 | FORMAT() Function Workarounds in Tableau\n",
    "11 | All Functions (Categorical)\n",
    "12 | All Functions (Alphabetical)"
   ]
  },
  {
   "cell_type": "markdown",
   "id": "c838049b",
   "metadata": {},
   "source": [
    "## 01 [Type Conversion](https://help.tableau.com/current/pro/desktop/en-us/functions_functions_typeconversion.htm)\n",
    "Type conversion functions are used to convert field from one data type to another. For example, if you want to use the age field, without Tableau aggregating the data, could can use a type conversion function to change from and `int` to a `str`\n",
    "\n",
    "### DATE(*expression*)\n",
    "returns a date given a:\n",
    "- number,\n",
    "- string, or\n",
    "- date \n",
    "\n",
    "expression\n",
    "### DATETIME(*expression*)"
   ]
  },
  {
   "cell_type": "code",
   "execution_count": null,
   "id": "2c92d7dd",
   "metadata": {},
   "outputs": [],
   "source": []
  }
 ],
 "metadata": {
  "kernelspec": {
   "display_name": "Python 3",
   "language": "python",
   "name": "python3"
  },
  "language_info": {
   "codemirror_mode": {
    "name": "ipython",
    "version": 3
   },
   "file_extension": ".py",
   "mimetype": "text/x-python",
   "name": "python",
   "nbconvert_exporter": "python",
   "pygments_lexer": "ipython3",
   "version": "3.8.8"
  }
 },
 "nbformat": 4,
 "nbformat_minor": 5
}
