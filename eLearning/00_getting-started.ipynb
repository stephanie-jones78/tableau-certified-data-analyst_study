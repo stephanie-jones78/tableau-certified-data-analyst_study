{
 "cells": [
  {
   "cell_type": "markdown",
   "id": "33bffd8d",
   "metadata": {},
   "source": [
    "# Getting Started with Tableau"
   ]
  },
  {
   "cell_type": "markdown",
   "id": "eb6e2f69",
   "metadata": {},
   "source": [
    "## Data\n",
    "Sources:\n",
    "- Spreadsheet\n",
    "    - Excel\n",
    "    - Google Sheets\n",
    "- Relational Databases\n",
    "- Cloud (when orgs do not want to support on-site servers for data storage)\n",
    "    - Amazon Web Services (AWS)\n",
    "    - Microsoft Azure\n",
    "\n",
    "Assigning Data\n",
    "- Role \n",
    "    - `Dimension` *qualitative fields*\n",
    "        - Describes or categorizes data\n",
    "        - Slices quantitative data\n",
    "    - `Measure` *quantitative fields*\n",
    "- Type (data type)\n",
    "    - Provides a measurement for qualitative data\n",
    "    - Can be aggregated\n",
    "\n",
    "Any changes made to data in Tableau do not affect the original data source. The changes are stored as metadata in a Tableau file called Tableau Data Source or `.tds`"
   ]
  },
  {
   "cell_type": "code",
   "execution_count": null,
   "id": "f02c79b2",
   "metadata": {},
   "outputs": [],
   "source": []
  }
 ],
 "metadata": {
  "kernelspec": {
   "display_name": "Python 3",
   "language": "python",
   "name": "python3"
  },
  "language_info": {
   "codemirror_mode": {
    "name": "ipython",
    "version": 3
   },
   "file_extension": ".py",
   "mimetype": "text/x-python",
   "name": "python",
   "nbconvert_exporter": "python",
   "pygments_lexer": "ipython3",
   "version": "3.8.8"
  }
 },
 "nbformat": 4,
 "nbformat_minor": 5
}
