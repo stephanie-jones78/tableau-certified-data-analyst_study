{
 "cells": [
  {
   "cell_type": "markdown",
   "id": "33bffd8d",
   "metadata": {},
   "source": [
    "# Getting Started with Tableau"
   ]
  },
  {
   "cell_type": "markdown",
   "id": "eb6e2f69",
   "metadata": {},
   "source": [
    "## Data\n",
    "Sources:\n",
    "- Spreadsheet\n",
    "    - Excel\n",
    "    - Google Sheets\n",
    "- Relational Databases\n",
    "- Cloud (when orgs do not want to support on-site servers for data storage)\n",
    "    - Amazon Web Services (AWS)\n",
    "    - Microsoft Azure\n",
    "\n",
    "## Assigning Data\n",
    "- Role: *What it is...* \n",
    "    - `Dimension` *qualitative fields*\n",
    "        - Describes or categorizes data\n",
    "        - Set the **granularity** or level of detail in a view\n",
    "    - `Measure` *quantitative fields*\n",
    "- Type *What it does...*\n",
    "    - `Discrete` \n",
    "        - The data contains separate parts\n",
    "        - Come out onto the view as themselves\n",
    "    - `Continuous`\n",
    "        - Can take on any value in a range\n",
    "        - Aggregated when placed in a view\n",
    "\n",
    "Any changes made to data in Tableau do not affect the original data source. The changes are stored as metadata in a Tableau file called Tableau Data Source or `.tds`"
   ]
  },
  {
   "cell_type": "markdown",
   "id": "5a40b465",
   "metadata": {},
   "source": [
    "## High Granularity vs Aggregated Data\n",
    "Data granularity refers to the level of detail for a peice of data. \n",
    ">Test scores\n",
    "- High School (**highest aggregation**)\n",
    "- Grade\n",
    "- Class\n",
    "- Student (**highest granularity**)\n",
    "\n",
    "Tableau's `Data Hierarchy` feature is useful for creating drill downs in charts."
   ]
  },
  {
   "cell_type": "code",
   "execution_count": null,
   "id": "125c73eb",
   "metadata": {},
   "outputs": [],
   "source": []
  }
 ],
 "metadata": {
  "kernelspec": {
   "display_name": "Python 3",
   "language": "python",
   "name": "python3"
  },
  "language_info": {
   "codemirror_mode": {
    "name": "ipython",
    "version": 3
   },
   "file_extension": ".py",
   "mimetype": "text/x-python",
   "name": "python",
   "nbconvert_exporter": "python",
   "pygments_lexer": "ipython3",
   "version": "3.8.8"
  }
 },
 "nbformat": 4,
 "nbformat_minor": 5
}
