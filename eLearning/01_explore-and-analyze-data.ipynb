{
 "cells": [
  {
   "cell_type": "markdown",
   "id": "f6585c4a",
   "metadata": {},
   "source": [
    "# Explore and Analyze Data\n",
    "from the [Analyst Learning Path](https://elearning.tableau.com/path/analyst-learning-path)\n",
    "1. Creating Calculated Fields\n",
    "2. Creating LOD Calculations\n",
    "3. Apply Table Calculations\n",
    "4. Apply Analytics"
   ]
  },
  {
   "cell_type": "markdown",
   "id": "2d0b36b5",
   "metadata": {},
   "source": [
    "## 1. Creating Calculated Fields\n",
    "### A. Understand Calculated Fields\n",
    "Calculated fields allow you to create new fields from data that already exists in your data source. Uses include:\n",
    "- creating a new field using an existing one\n",
    "- calculating ratios\n",
    "- manipualting string fields\n",
    "- manipulating date fields\n",
    "    - computing the time between two dates\n",
    "    - extracting only a part of the date (e.g. day of the week)\n",
    "- converting the data type of a field\n",
    "- combining and aggregating data"
   ]
  },
  {
   "cell_type": "markdown",
   "id": "f9056d5b",
   "metadata": {},
   "source": [
    "#### Parts of a Calculated Field\n",
    "- **Fields** *existing fields in your data*\n",
    "- **Functions** *operations you perform on your data*\n",
    "- **Operators** *shortcuts for complex functions; `+, -, *, /, ==, =, !=, <, >=, ...`*\n",
    "- **Parameters** `//`*placeholder variables that can be inserted into calculations to replace constant values*\n",
    "- **Comments** *calculation annotations that do not appear in the view*"
   ]
  },
  {
   "cell_type": "markdown",
   "id": "9c42ed24",
   "metadata": {},
   "source": [
    "### B. Create Calculated Fields"
   ]
  },
  {
   "cell_type": "code",
   "execution_count": null,
   "id": "7cceed11",
   "metadata": {},
   "outputs": [],
   "source": []
  }
 ],
 "metadata": {
  "kernelspec": {
   "display_name": "Python 3",
   "language": "python",
   "name": "python3"
  },
  "language_info": {
   "codemirror_mode": {
    "name": "ipython",
    "version": 3
   },
   "file_extension": ".py",
   "mimetype": "text/x-python",
   "name": "python",
   "nbconvert_exporter": "python",
   "pygments_lexer": "ipython3",
   "version": "3.8.8"
  }
 },
 "nbformat": 4,
 "nbformat_minor": 5
}
